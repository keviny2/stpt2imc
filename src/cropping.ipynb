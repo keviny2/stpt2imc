{
 "cells": [
  {
   "cell_type": "markdown",
   "id": "described-johnson",
   "metadata": {},
   "source": [
    "### Notes\n",
    "- normalize to 8 bits b/c most values are between 0-255 anyways\n",
    "- in process_imc(stpt)_image(), don't convert numpy array to double - it slows things down A LOT (don't know why)\n",
    "- convert tensor to double when using torch.save - MASSIVE speed ups\n",
    "- make a clone of the stpt grid tensor when saving b/c torch.save will save the entire grid for some reason"
   ]
  },
  {
   "cell_type": "markdown",
   "id": "4ffecff7-f853-4b11-8310-89e42c92299f",
   "metadata": {},
   "source": [
    "## CROP IMAGES\n",
    "- Crops image pairs from stpt2imc/data/{IMC, STPT}/ and saves cropped images to disk"
   ]
  },
  {
   "cell_type": "code",
   "execution_count": 1,
   "id": "industrial-motivation",
   "metadata": {},
   "outputs": [
    {
     "name": "stdout",
     "output_type": "stream",
     "text": [
      "IMC: Done physical section: 15\n",
      "STPT: Done physical section: 15\n"
     ]
    }
   ],
   "source": [
    "from img_processing import crop_imc, crop_stpt\n",
    "\n",
    "for i in range(15, 16): # for loop indices correspond to the physical sections that will be processed (18)\n",
    "    if i == 16:\n",
    "        continue  # physical section 16 is defective\n",
    "    crop_imc(i)\n",
    "    crop_stpt(i)"
   ]
  }
 ],
 "metadata": {
  "kernelspec": {
   "display_name": "Python 3 (ipykernel)",
   "language": "python",
   "name": "python3"
  },
  "language_info": {
   "codemirror_mode": {
    "name": "ipython",
    "version": 3
   },
   "file_extension": ".py",
   "mimetype": "text/x-python",
   "name": "python",
   "nbconvert_exporter": "python",
   "pygments_lexer": "ipython3",
   "version": "3.9.6"
  }
 },
 "nbformat": 4,
 "nbformat_minor": 5
}
