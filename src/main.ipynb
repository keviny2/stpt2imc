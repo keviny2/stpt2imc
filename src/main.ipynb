{
 "cells": [
  {
   "cell_type": "code",
   "execution_count": null,
   "id": "bb4094cc-c99a-4875-a0d9-d7af267d55ad",
   "metadata": {},
   "outputs": [],
   "source": [
    "from models import UNet, PointSetGen"
   ]
  },
  {
   "cell_type": "code",
   "execution_count": null,
   "id": "ba5c86e2-39ea-42ce-b7cb-c22b47cbe320",
   "metadata": {},
   "outputs": [],
   "source": [
    "# Check if GPU is available\n",
    "use_gpu = torch.cuda.is_available()\n",
    "\n",
    "model = UNet().double()\n",
    "criterion = nn.MSELoss()\n",
    "\n",
    "# Move model and loss function to GPU\n",
    "if use_gpu: \n",
    "    criterion = criterion.cuda()\n",
    "    model = model.cuda()\n",
    "\n",
    "# optimizer = torch.optim.AdamW(model.parameters(), lr=0.001, weight_decay=0.01)\n",
    "optimizer = torch.optim.AdamW(model.parameters(), lr=0.1, weight_decay=0.01)\n",
    "\n",
    "# https://pytorch.org/tutorials/beginner/saving_loading_models.html#saving-loading-a-general-checkpoint-for-inference-and-or-resuming-training\n",
    "\n",
    "checkpoint = torch.load('../checkpoints/model-epoch-7-losses-282.914.pth')\n",
    "model.load_state_dict(checkpoint['model_state_dict'])\n",
    "optimizer.load_state_dict(checkpoint['optimizer_state_dict'])\n",
    "inc = checkpoint['epoch'] + 1 # increment depending on how many epochs we already completed"
   ]
  }
 ],
 "metadata": {
  "kernelspec": {
   "display_name": "Python 3 (ipykernel)",
   "language": "python",
   "name": "python3"
  },
  "language_info": {
   "codemirror_mode": {
    "name": "ipython",
    "version": 3
   },
   "file_extension": ".py",
   "mimetype": "text/x-python",
   "name": "python",
   "nbconvert_exporter": "python",
   "pygments_lexer": "ipython3",
   "version": "3.9.6"
  }
 },
 "nbformat": 4,
 "nbformat_minor": 5
}
