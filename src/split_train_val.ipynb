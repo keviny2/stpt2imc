{
 "cells": [
  {
   "cell_type": "markdown",
   "id": "worth-morning",
   "metadata": {},
   "source": [
    "## Split training and validation sets"
   ]
  },
  {
   "cell_type": "code",
   "execution_count": 50,
   "id": "peripheral-companion",
   "metadata": {},
   "outputs": [],
   "source": [
    "import os\n",
    "import numpy as np"
   ]
  },
  {
   "cell_type": "code",
   "execution_count": 53,
   "id": "972a0f22-f191-402b-9e1d-1757546ec474",
   "metadata": {},
   "outputs": [],
   "source": [
    "imc_path = '../data/train/IMC/'\n",
    "stpt_path = '../data/train/STPT/'\n",
    "\n",
    "val_imc_path = '../data/val/IMC/'\n",
    "val_stpt_path = '../data/val/STPT/'\n",
    "\n",
    "for phys_sec in range(1, 19):\n",
    "    imc_files = os.listdir(os.path.join(imc_path, str(phys_sec).zfill(2)))\n",
    "    stpt_files = os.listdir(os.path.join(stpt_path, str(phys_sec).zfill(2)))\n",
    "    idxs = np.random.choice(len(imc_files), size=int(np.ceil(len(imc_files)*0.1)), replace=False)\n",
    "    for idx in idxs:\n",
    "        # move imc files\n",
    "        new_imc_path = os.path.join(val_imc_path, str(phys_sec).zfill(2))\n",
    "        if not(os.path.isdir(new_imc_path)):\n",
    "            os.makedirs(new_imc_path)\n",
    "        os.rename(os.path.join(imc_path, str(phys_sec).zfill(2), imc_files[idx]), os.path.join(new_imc_path, imc_files[idx]))\n",
    "        \n",
    "        # move stpt files\n",
    "        new_stpt_path = os.path.join(val_stpt_path, str(phys_sec).zfill(2))\n",
    "        if not(os.path.isdir(new_stpt_path)):\n",
    "            os.makedirs(new_stpt_path)\n",
    "        os.rename(os.path.join(stpt_path, str(phys_sec).zfill(2), stpt_files[idx]), os.path.join(new_stpt_path, stpt_files[idx]))"
   ]
  }
 ],
 "metadata": {
  "kernelspec": {
   "display_name": "Python 3 (ipykernel)",
   "language": "python",
   "name": "python3"
  },
  "language_info": {
   "codemirror_mode": {
    "name": "ipython",
    "version": 3
   },
   "file_extension": ".py",
   "mimetype": "text/x-python",
   "name": "python",
   "nbconvert_exporter": "python",
   "pygments_lexer": "ipython3",
   "version": "3.9.6"
  }
 },
 "nbformat": 4,
 "nbformat_minor": 5
}
