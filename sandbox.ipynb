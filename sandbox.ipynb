{
 "cells": [
  {
   "cell_type": "code",
   "execution_count": null,
   "id": "latin-shipping",
   "metadata": {},
   "outputs": [],
   "source": [
    "from visualization.utils import display_img\n",
    "from skimage import io, exposure\n",
    "import numpy as np\n",
    "import cv2 as cv\n",
    "import matplotlib.pyplot as plt\n",
    "import time"
   ]
  },
  {
   "cell_type": "markdown",
   "id": "spread-artwork",
   "metadata": {},
   "source": [
    "## Visualization"
   ]
  },
  {
   "cell_type": "code",
   "execution_count": null,
   "id": "labeled-matrix",
   "metadata": {},
   "outputs": [],
   "source": [
    "stpt_img = io.imread('data/train/STPT/S014_Z00.tif')\n",
    "# plt.imshow(img, cmap='gray')\n",
    "\n",
    "imc_img = io.imread('data/train/IMC/SECTION_01/131Xe.tif')"
   ]
  },
  {
   "cell_type": "code",
   "execution_count": null,
   "id": "christian-opera",
   "metadata": {},
   "outputs": [],
   "source": [
    "imc_img = torch.from_numpy(imc_img.astype(np.int16))\n",
    "imc_img = torch.unsqueeze(imc_img, 0)\n",
    "\n",
    "stpt_img = torch.from_numpy(stpt_img).permute((2,0,1))"
   ]
  },
  {
   "cell_type": "code",
   "execution_count": null,
   "id": "exempt-middle",
   "metadata": {},
   "outputs": [],
   "source": [
    "stpt_img = torchvision.transforms.Resize(18720)(stpt_img)\n",
    "combine = torch.cat((stpt_img, imc_img), 0)\n",
    "combine.shape"
   ]
  },
  {
   "cell_type": "code",
   "execution_count": null,
   "id": "terminal-counter",
   "metadata": {},
   "outputs": [],
   "source": [
    "x = [torch.split(combine, 4)]\n",
    "y = map(list, zip(*x))"
   ]
  },
  {
   "cell_type": "code",
   "execution_count": null,
   "id": "suburban-income",
   "metadata": {},
   "outputs": [],
   "source": [
    "type(x[0])"
   ]
  },
  {
   "cell_type": "markdown",
   "id": "temporal-ceramic",
   "metadata": {},
   "source": [
    "## Concatenating IMC images"
   ]
  },
  {
   "cell_type": "code",
   "execution_count": 10,
   "id": "determined-implementation",
   "metadata": {},
   "outputs": [],
   "source": [
    "import os, shutil\n",
    "import torch\n",
    "import cv2 as cv\n",
    "import numpy as np\n",
    "import time\n",
    "from torch.multiprocessing import Pool, set_start_method\n",
    "from skimage import io\n",
    "from torchvision import transforms"
   ]
  },
  {
   "cell_type": "code",
   "execution_count": 2,
   "id": "interested-pattern",
   "metadata": {},
   "outputs": [],
   "source": [
    "def process_imc_image(file_name, plot=False, bits=8, v=[0, 256]):\n",
    "    # read image file\n",
    "    img = cv.imread(file_name, cv.IMREAD_UNCHANGED)\n",
    "\n",
    "    # normalize image\n",
    "    norm_img = img.copy()\n",
    "    cv.normalize(img, norm_img, alpha=0, beta=2**bits - 1, norm_type=cv.NORM_MINMAX)\n",
    "\n",
    "    # Apply log transformation method\n",
    "    c = (2**bits - 1) / np.log(1 + np.max(norm_img))\n",
    "    log_image = c * (np.log(norm_img + 1))\n",
    "    \n",
    "    if plot:\n",
    "        plt.imshow(log_image, cmap='gray', vmin=v[0], vmax=v[1])\n",
    "    else:\n",
    "        # Specify the data type so that\n",
    "        # float value will be converted to int\n",
    "        return torch.from_numpy(log_image.astype('uint8'))\n",
    "    \n",
    "def process_stpt_image(file_name):\n",
    "    img = io.imread(file_name)\n",
    "    return torch.from_numpy(img.astype('uint8'))\n",
    "\n",
    "    \n",
    "imc_section_01_folder = 'data/train/IMC/SECTION_01/'\n",
    "imc_img_paths = [os.path.join(imc_section_01_folder, imc_img)\n",
    "            for imc_img in os.listdir(imc_section_01_folder)\n",
    "            if imc_img.endswith('.tif')]\n",
    "\n",
    "stpt_img_paths = [os.path.join('data/train/STPT/',\n",
    "                               'S{0}_Z{1}.tif'.format(str(1).zfill(3),\n",
    "                                                  optical_section.zfill(2)))\n",
    "                  for optical_section in ['0', '1']]"
   ]
  },
  {
   "cell_type": "code",
   "execution_count": 3,
   "id": "western-slovenia",
   "metadata": {},
   "outputs": [
    {
     "name": "stdout",
     "output_type": "stream",
     "text": [
      "LOADING IMAGES\n",
      "Loading STPT images took 41.762733697891235 seconds\n"
     ]
    }
   ],
   "source": [
    "print('LOADING IMAGES')\n",
    "start = time.time()\n",
    "with Pool(maxtasksperchild=100) as p:\n",
    "    imc_imgs = list(p.imap(process_imc_image, imc_img_paths))\n",
    "    stpt_imgs = list(p.imap(process_stpt_image, stpt_img_paths))\n",
    "end = time.time()\n",
    "print('Loading STPT images took', end-start, 'seconds')"
   ]
  },
  {
   "cell_type": "code",
   "execution_count": 4,
   "id": "boolean-quarterly",
   "metadata": {},
   "outputs": [
    {
     "name": "stdout",
     "output_type": "stream",
     "text": [
      "process imc\n",
      "concat imc\n",
      "permute stpt\n",
      "cat stpt\n"
     ]
    }
   ],
   "source": [
    "# postprocess loaded images\n",
    "print('process imc')\n",
    "imc_imgs = [torch.unsqueeze(img, 0) for img in imc_imgs] # add an extra dimesion for channel\n",
    "print('concat imc')\n",
    "imc_imgs_cat = torch.cat(imc_imgs, 0) # (40, 18720, 18720)\n",
    "\n",
    "print('permute stpt')\n",
    "stpt_imgs = [img.permute((2,0,1)) for img in stpt_imgs] # (C,H,W) tensor\n",
    "print('cat stpt')\n",
    "stpt_imgs_cat = torch.cat(stpt_imgs, 0) # concatenate two stpt images (8, 20800, 20800)"
   ]
  },
  {
   "cell_type": "code",
   "execution_count": 8,
   "id": "executive-sacrifice",
   "metadata": {},
   "outputs": [
    {
     "data": {
      "text/plain": [
       "18720"
      ]
     },
     "execution_count": 8,
     "metadata": {},
     "output_type": "execute_result"
    }
   ],
   "source": [
    "imc_imgs[0].shape[1]"
   ]
  },
  {
   "cell_type": "code",
   "execution_count": null,
   "id": "black-minister",
   "metadata": {},
   "outputs": [],
   "source": [
    "# ====== TRANSFORMS ======\n",
    "print('PERFORMING TRANSFORMS')\n",
    "\n",
    "stpt_imgs_cat = transforms.Resize(imc_imgs[0].shape[1])(stpt_imgs_cat)  # make STPT img same size as IMC (..., 18720, 18720)\n",
    "combine = torch.cat((imc_imgs_cat, stpt_imgs_cat), 0) # combine imc and stpt -> (48, 18720, 18720)\n",
    "\n",
    "# obtain a batch of random crops\n",
    "img_set = [transforms.Compose([transforms.RandomCrop(256)])(combine) for i in range(64)]\n",
    "\n",
    "# separate imc and stpt -> (40, 18720, 18720), (8, 18720, 18720)\n",
    "imc_imgs = [torch.split(img, 40)[0] for img in img_set]\n",
    "stpt_imgs = [torch.split(img, 40)[1] for img in img_set]"
   ]
  },
  {
   "cell_type": "code",
   "execution_count": 19,
   "id": "asian-cambridge",
   "metadata": {},
   "outputs": [
    {
     "name": "stdout",
     "output_type": "stream",
     "text": [
      "imc torch.Size([40, 256, 256])\n",
      "stpt torch.Size([8, 256, 256])\n"
     ]
    }
   ],
   "source": [
    "print('imc',imc_imgs[0].shape)\n",
    "print('stpt', stpt_imgs[0].shape)"
   ]
  },
  {
   "cell_type": "markdown",
   "id": "accessible-makeup",
   "metadata": {},
   "source": [
    "## Batches"
   ]
  },
  {
   "cell_type": "code",
   "execution_count": 7,
   "id": "analyzed-consistency",
   "metadata": {},
   "outputs": [],
   "source": [
    "import torch\n",
    "imgs = [[torch.ones((8, 256, 256)) for i in range(64)]]\n",
    "targets = [[torch.ones((40, 256, 256)) for i in range(64)]]"
   ]
  },
  {
   "cell_type": "code",
   "execution_count": 11,
   "id": "minus-fourth",
   "metadata": {},
   "outputs": [],
   "source": [
    "x = [torch.ones((8, 256,256)) for i in range(64)]\n",
    "y = [torch.ones((40, 256,256)) for i in range(64)]\n",
    "batch = (x, y)"
   ]
  },
  {
   "cell_type": "code",
   "execution_count": 17,
   "id": "flying-cabin",
   "metadata": {},
   "outputs": [
    {
     "name": "stdout",
     "output_type": "stream",
     "text": [
      "2\n",
      "64\n",
      "64\n",
      "torch.Size([8, 256, 256])\n",
      "torch.Size([40, 256, 256])\n"
     ]
    }
   ],
   "source": [
    "print(len(batch))\n",
    "print(len(batch[0]))\n",
    "print(len(batch[1]))\n",
    "print(batch[0][0].shape)\n",
    "print(batch[1][0].shape)"
   ]
  },
  {
   "cell_type": "code",
   "execution_count": 23,
   "id": "atmospheric-wales",
   "metadata": {},
   "outputs": [
    {
     "data": {
      "text/plain": [
       "'torch.cuda.DoubleTensor'"
      ]
     },
     "execution_count": 23,
     "metadata": {},
     "output_type": "execute_result"
    }
   ],
   "source": [
    "imc = torch.stack(batch[0]).cuda().double()\n",
    "imc.type()"
   ]
  }
 ],
 "metadata": {
  "kernelspec": {
   "display_name": "cpsc533y",
   "language": "python",
   "name": "cpsc533y"
  },
  "language_info": {
   "codemirror_mode": {
    "name": "ipython",
    "version": 3
   },
   "file_extension": ".py",
   "mimetype": "text/x-python",
   "name": "python",
   "nbconvert_exporter": "python",
   "pygments_lexer": "ipython3",
   "version": "3.7.10"
  }
 },
 "nbformat": 4,
 "nbformat_minor": 5
}
