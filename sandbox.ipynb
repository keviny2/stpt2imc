{
 "cells": [
  {
   "cell_type": "code",
   "execution_count": 2,
   "id": "funny-edward",
   "metadata": {},
   "outputs": [],
   "source": [
    "from visualization.utils import display_img\n",
    "from skimage import io, exposure\n",
    "import numpy as np\n",
    "import cv2 as cv\n",
    "import matplotlib.pyplot as plt\n",
    "import time"
   ]
  },
  {
   "cell_type": "markdown",
   "id": "aboriginal-collective",
   "metadata": {},
   "source": [
    "## Visualization"
   ]
  },
  {
   "cell_type": "code",
   "execution_count": 22,
   "id": "standing-citizen",
   "metadata": {},
   "outputs": [
    {
     "name": "stdout",
     "output_type": "stream",
     "text": [
      "Shape of STPT image: (18720, 18720)\n",
      "Shape of IMC image: (18720, 18720)\n"
     ]
    }
   ],
   "source": [
    "stpt_img = io.imread('data/train/STPT/S014_Z00.tif')\n",
    "# plt.imshow(img, cmap='gray')\n",
    "\n",
    "imc_img = io.imread('data/train/IMC/SECTION_01/131Xe.tif')"
   ]
  },
  {
   "cell_type": "code",
   "execution_count": 31,
   "id": "individual-qatar",
   "metadata": {},
   "outputs": [
    {
     "data": {
      "text/plain": [
       "torch.Size([4, 20800, 20800])"
      ]
     },
     "execution_count": 31,
     "metadata": {},
     "output_type": "execute_result"
    }
   ],
   "source": [
    "imc_img = torch.from_numpy(imc_img.astype(np.int16))\n",
    "imc_img = torch.unsqueeze(imc_img, 0)\n",
    "\n",
    "stpt_img = torch.from_numpy(stpt_img).permute((2,0,1))"
   ]
  },
  {
   "cell_type": "code",
   "execution_count": 40,
   "id": "future-nickname",
   "metadata": {},
   "outputs": [
    {
     "data": {
      "text/plain": [
       "torch.Size([5, 18720, 18720])"
      ]
     },
     "execution_count": 40,
     "metadata": {},
     "output_type": "execute_result"
    }
   ],
   "source": [
    "stpt_img = torchvision.transforms.Resize(18720)(stpt_img)\n",
    "combine = torch.cat((stpt_img, imc_img), 0)\n",
    "combine.shape"
   ]
  },
  {
   "cell_type": "code",
   "execution_count": 73,
   "id": "theoretical-attendance",
   "metadata": {},
   "outputs": [
    {
     "name": "stdout",
     "output_type": "stream",
     "text": [
      "<map object at 0x7f8cc854b550>\n"
     ]
    }
   ],
   "source": [
    "x = [torch.split(combine, 4)]\n",
    "y = map(list, zip(*x))"
   ]
  },
  {
   "cell_type": "code",
   "execution_count": 80,
   "id": "automated-bathroom",
   "metadata": {},
   "outputs": [
    {
     "data": {
      "text/plain": [
       "tuple"
      ]
     },
     "execution_count": 80,
     "metadata": {},
     "output_type": "execute_result"
    }
   ],
   "source": [
    "type(x[0])"
   ]
  },
  {
   "cell_type": "markdown",
   "id": "brown-humanity",
   "metadata": {},
   "source": [
    "## Concatenating IMC images"
   ]
  },
  {
   "cell_type": "code",
   "execution_count": 12,
   "id": "critical-scotland",
   "metadata": {},
   "outputs": [],
   "source": [
    "import os, shutil\n",
    "import torch\n",
    "import cv2 as cv\n",
    "import numpy as np\n",
    "import time\n",
    "from multiprocessing.pool import Pool\n",
    "from skimage import io"
   ]
  },
  {
   "cell_type": "code",
   "execution_count": 13,
   "id": "alien-possible",
   "metadata": {},
   "outputs": [],
   "source": [
    "def process_imc_image(file_name, plot=False, bits=8, v=[0, 256]):\n",
    "    # read image file\n",
    "    img = cv.imread(file_name, cv.IMREAD_UNCHANGED)\n",
    "\n",
    "    # normalize image\n",
    "    norm_img = img.copy()\n",
    "    cv.normalize(img, norm_img, alpha=0, beta=2**bits - 1, norm_type=cv.NORM_MINMAX)\n",
    "\n",
    "    # Apply log transformation method\n",
    "    c = (2**bits - 1) / np.log(1 + np.max(norm_img))\n",
    "    log_image = c * (np.log(norm_img + 1))\n",
    "    \n",
    "    if plot:\n",
    "        plt.imshow(log_image, cmap='gray', vmin=v[0], vmax=v[1])\n",
    "    else:\n",
    "        # Specify the data type so that\n",
    "        # float value will be converted to int\n",
    "        return torch.from_numpy(log_image)\n",
    "\n",
    "    \n",
    "imc_section_01_folder = 'data/train/IMC/SECTION_01/'\n",
    "imc_imgs = [os.path.join(imc_section_01_folder, imc_img)\n",
    "            for imc_img in os.listdir(imc_section_01_folder)\n",
    "            if imc_img.endswith('.tif')]"
   ]
  },
  {
   "cell_type": "code",
   "execution_count": 14,
   "id": "sharing-proxy",
   "metadata": {},
   "outputs": [
    {
     "name": "stdout",
     "output_type": "stream",
     "text": [
      "took 11.589147090911865 seconds\n"
     ]
    }
   ],
   "source": [
    "start = time.time()\n",
    "with Pool(maxtasksperchild=100) as p:\n",
    "    imc_imgs = list(p.imap(process_imc_image, imc_imgs))\n",
    "\n",
    "end = time.time()\n",
    "print('took', end-start, 'seconds')"
   ]
  },
  {
   "cell_type": "code",
   "execution_count": null,
   "id": "mathematical-weekend",
   "metadata": {},
   "outputs": [],
   "source": [
    "imc_imgs = [torch.unsqueeze(img, 0) for img in imc_imgs]\n",
    "imc_imgs = torch.cat(imc_imgs, 0)"
   ]
  },
  {
   "cell_type": "code",
   "execution_count": null,
   "id": "criminal-formula",
   "metadata": {},
   "outputs": [],
   "source": [
    "def process_stpt_image(file_name):\n",
    "    img = io.imread(file_name)\n",
    "    return torch.from_numpy(img)\n",
    "    \n",
    "stpt_img_paths = [os.path.join('data/train/STPT/',\n",
    "                               'S{0}_Z{1}.tif'.format(str(1).zfill(3),\n",
    "                                                  optical_section.zfill(2)))\n",
    "                  for optical_section in ['0', '1']]\n",
    "\n",
    "start = time.time()\n",
    "with Pool(maxtasksperchild=100) as p:\n",
    "    stpt_imgs = list(p.imap(process_stpt_image, stpt_img_paths))\n",
    "end = time.time()\n",
    "print('Loading STPT images took', end-start, 'seconds')"
   ]
  },
  {
   "cell_type": "code",
   "execution_count": 1,
   "id": "satellite-parcel",
   "metadata": {},
   "outputs": [
    {
     "ename": "NameError",
     "evalue": "name 'stpt_imgs' is not defined",
     "output_type": "error",
     "traceback": [
      "\u001b[0;31m---------------------------------------------------------------------------\u001b[0m",
      "\u001b[0;31mNameError\u001b[0m                                 Traceback (most recent call last)",
      "\u001b[0;32m<ipython-input-1-6af409702239>\u001b[0m in \u001b[0;36m<module>\u001b[0;34m\u001b[0m\n\u001b[0;32m----> 1\u001b[0;31m \u001b[0mstpt_imgs\u001b[0m \u001b[0;34m=\u001b[0m \u001b[0;34m[\u001b[0m\u001b[0mimg\u001b[0m\u001b[0;34m.\u001b[0m\u001b[0mpermute\u001b[0m\u001b[0;34m(\u001b[0m\u001b[0;34m(\u001b[0m\u001b[0;36m2\u001b[0m\u001b[0;34m,\u001b[0m\u001b[0;36m0\u001b[0m\u001b[0;34m,\u001b[0m\u001b[0;36m1\u001b[0m\u001b[0;34m)\u001b[0m\u001b[0;34m)\u001b[0m \u001b[0;32mfor\u001b[0m \u001b[0mimg\u001b[0m \u001b[0;32min\u001b[0m \u001b[0mstpt_imgs\u001b[0m\u001b[0;34m]\u001b[0m\u001b[0;34m\u001b[0m\u001b[0;34m\u001b[0m\u001b[0m\n\u001b[0m\u001b[1;32m      2\u001b[0m \u001b[0mprint\u001b[0m\u001b[0;34m(\u001b[0m\u001b[0mstpt_imgs\u001b[0m\u001b[0;34m[\u001b[0m\u001b[0;36m0\u001b[0m\u001b[0;34m]\u001b[0m\u001b[0;34m.\u001b[0m\u001b[0mshape\u001b[0m\u001b[0;34m)\u001b[0m\u001b[0;34m\u001b[0m\u001b[0;34m\u001b[0m\u001b[0m\n\u001b[1;32m      3\u001b[0m \u001b[0mprint\u001b[0m\u001b[0;34m(\u001b[0m\u001b[0mimgs\u001b[0m\u001b[0;34m[\u001b[0m\u001b[0;36m0\u001b[0m\u001b[0;34m]\u001b[0m\u001b[0;34m.\u001b[0m\u001b[0mshape\u001b[0m\u001b[0;34m)\u001b[0m\u001b[0;34m\u001b[0m\u001b[0;34m\u001b[0m\u001b[0m\n",
      "\u001b[0;31mNameError\u001b[0m: name 'stpt_imgs' is not defined"
     ]
    }
   ],
   "source": [
    "stpt_imgs = [img.permute((2,0,1)) for img in stpt_imgs]\n",
    "print(stpt_imgs[0].shape)\n",
    "print(imgs[0].shape)"
   ]
  }
 ],
 "metadata": {
  "kernelspec": {
   "display_name": "cpsc533y",
   "language": "python",
   "name": "cpsc533y"
  },
  "language_info": {
   "codemirror_mode": {
    "name": "ipython",
    "version": 3
   },
   "file_extension": ".py",
   "mimetype": "text/x-python",
   "name": "python",
   "nbconvert_exporter": "python",
   "pygments_lexer": "ipython3",
   "version": "3.7.10"
  }
 },
 "nbformat": 4,
 "nbformat_minor": 5
}
