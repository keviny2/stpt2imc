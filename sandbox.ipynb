{
 "cells": [
  {
   "cell_type": "code",
   "execution_count": 24,
   "id": "native-yellow",
   "metadata": {},
   "outputs": [],
   "source": [
    "from utils.visualization import display_img\n",
    "from skimage import io, exposure\n",
    "import numpy as np\n",
    "import cv2 as cv\n",
    "import matplotlib.pyplot as plt\n",
    "import time"
   ]
  },
  {
   "cell_type": "markdown",
   "id": "pleasant-somerset",
   "metadata": {},
   "source": [
    "## Visualization"
   ]
  },
  {
   "cell_type": "code",
   "execution_count": 27,
   "id": "offensive-deputy",
   "metadata": {},
   "outputs": [],
   "source": [
    "def process_stpt_image(file_name):\n",
    "    img = io.imread(file_name)\n",
    "    \n",
    "    # normalize image (8 bits)\n",
    "    norm_img = img.copy()\n",
    "    cv.normalize(img, norm_img, alpha=0, beta=2**8 - 1, norm_type=cv.NORM_MINMAX)\n",
    "\n",
    "    # Apply log transformation method\n",
    "    c = (2**8 - 1) / np.log(1 + np.max(norm_img))\n",
    "\n",
    "    log_image = c * (np.log(norm_img + 1))\n",
    "    # Specify the data type so that\n",
    "    # float value will be converted to int\n",
    "    return torch.from_numpy(log_image)\n",
    "\n",
    "def process_imc_image(file_name):\n",
    "    # read image file\n",
    "    img = cv.imread(file_name, cv.IMREAD_UNCHANGED)\n",
    "\n",
    "    # normalize image (8 bits)\n",
    "    norm_img = img.copy()\n",
    "    cv.normalize(img, norm_img, alpha=0, beta=2**8 - 1, norm_type=cv.NORM_MINMAX)\n",
    "\n",
    "    # Apply log transformation method\n",
    "    c = (2**8 - 1) / np.log(1 + np.max(norm_img))\n",
    "\n",
    "    log_image = c * (np.log(norm_img + 1))\n",
    "\n",
    "    # Specify the data type so that\n",
    "    # float value will be converted to int\n",
    "    return torch.from_numpy(log_image)"
   ]
  },
  {
   "cell_type": "code",
   "execution_count": 29,
   "id": "formal-habitat",
   "metadata": {},
   "outputs": [],
   "source": [
    "stpt = process_stpt_image('data/STPT/S001_Z00.tif')\n",
    "\n",
    "imc = process_imc_image('data/IMC/SECTION_01/143Nd_Vimentin.tifNd_Vimentin.tif')"
   ]
  },
  {
   "cell_type": "code",
   "execution_count": null,
   "id": "boring-rover",
   "metadata": {},
   "outputs": [],
   "source": [
    "f, axarr = plt.subplots(2,2)\n",
    "axarr.axis(\"off\")\n",
    "axarr[0,0] = plt.imshow(stpt.numpy(), cmap='gray')\n",
    "axarr[0,1] = plt.imshow(image_datas[1])\n",
    "\n",
    "fig, ax = plt.subplots()\n",
    "ax.axis(\"off\")\n",
    "\n",
    "plt.imshow(stpt.numpy(), cmap='gray')\n",
    "plt.savefig('figures/STPT.png')\n",
    "plt.clf()"
   ]
  },
  {
   "cell_type": "code",
   "execution_count": null,
   "id": "reflected-exercise",
   "metadata": {},
   "outputs": [],
   "source": [
    "fig, ax = plt.subplots()\n",
    "ax.axis(\"off\")\n",
    "\n",
    "plt.imshow(imc.numpy(), cmap='gray')\n",
    "plt.savefig('figures/IMC.png')\n",
    "plt.clf()"
   ]
  },
  {
   "cell_type": "markdown",
   "id": "irish-couple",
   "metadata": {},
   "source": [
    "## Concatenating IMC images"
   ]
  },
  {
   "cell_type": "code",
   "execution_count": 10,
   "id": "tamil-pound",
   "metadata": {},
   "outputs": [],
   "source": [
    "import os, shutil\n",
    "import torch\n",
    "import cv2 as cv\n",
    "import numpy as np\n",
    "import time\n",
    "from torch.multiprocessing import Pool, set_start_method\n",
    "from skimage import io\n",
    "from torchvision import transforms"
   ]
  },
  {
   "cell_type": "code",
   "execution_count": 2,
   "id": "appointed-smoke",
   "metadata": {},
   "outputs": [],
   "source": [
    "def process_imc_image(file_name, plot=False, bits=8, v=[0, 256]):\n",
    "    # read image file\n",
    "    img = cv.imread(file_name, cv.IMREAD_UNCHANGED)\n",
    "\n",
    "    # normalize image\n",
    "    norm_img = img.copy()\n",
    "    cv.normalize(img, norm_img, alpha=0, beta=2**bits - 1, norm_type=cv.NORM_MINMAX)\n",
    "\n",
    "    # Apply log transformation method\n",
    "    c = (2**bits - 1) / np.log(1 + np.max(norm_img))\n",
    "    log_image = c * (np.log(norm_img + 1))\n",
    "    \n",
    "    if plot:\n",
    "        plt.imshow(log_image, cmap='gray', vmin=v[0], vmax=v[1])\n",
    "    else:\n",
    "        # Specify the data type so that\n",
    "        # float value will be converted to int\n",
    "        return torch.from_numpy(log_image.astype('uint8'))\n",
    "    \n",
    "def process_stpt_image(file_name):\n",
    "    img = io.imread(file_name)\n",
    "    return torch.from_numpy(img.astype('uint8'))\n",
    "\n",
    "    \n",
    "imc_section_01_folder = 'data/train/IMC/SECTION_01/'\n",
    "imc_img_paths = [os.path.join(imc_section_01_folder, imc_img)\n",
    "            for imc_img in os.listdir(imc_section_01_folder)\n",
    "            if imc_img.endswith('.tif')]\n",
    "\n",
    "stpt_img_paths = [os.path.join('data/train/STPT/',\n",
    "                               'S{0}_Z{1}.tif'.format(str(1).zfill(3),\n",
    "                                                  optical_section.zfill(2)))\n",
    "                  for optical_section in ['0', '1']]"
   ]
  },
  {
   "cell_type": "code",
   "execution_count": 3,
   "id": "surface-living",
   "metadata": {},
   "outputs": [
    {
     "name": "stdout",
     "output_type": "stream",
     "text": [
      "LOADING IMAGES\n",
      "Loading STPT images took 41.762733697891235 seconds\n"
     ]
    }
   ],
   "source": [
    "print('LOADING IMAGES')\n",
    "start = time.time()\n",
    "with Pool(maxtasksperchild=100) as p:\n",
    "    imc_imgs = list(p.imap(process_imc_image, imc_img_paths))\n",
    "    stpt_imgs = list(p.imap(process_stpt_image, stpt_img_paths))\n",
    "end = time.time()\n",
    "print('Loading STPT images took', end-start, 'seconds')"
   ]
  },
  {
   "cell_type": "code",
   "execution_count": 4,
   "id": "academic-atlantic",
   "metadata": {},
   "outputs": [
    {
     "name": "stdout",
     "output_type": "stream",
     "text": [
      "process imc\n",
      "concat imc\n",
      "permute stpt\n",
      "cat stpt\n"
     ]
    }
   ],
   "source": [
    "# postprocess loaded images\n",
    "print('process imc')\n",
    "imc_imgs = [torch.unsqueeze(img, 0) for img in imc_imgs] # add an extra dimesion for channel\n",
    "print('concat imc')\n",
    "imc_imgs_cat = torch.cat(imc_imgs, 0) # (40, 18720, 18720)\n",
    "\n",
    "print('permute stpt')\n",
    "stpt_imgs = [img.permute((2,0,1)) for img in stpt_imgs] # (C,H,W) tensor\n",
    "print('cat stpt')\n",
    "stpt_imgs_cat = torch.cat(stpt_imgs, 0) # concatenate two stpt images (8, 20800, 20800)"
   ]
  },
  {
   "cell_type": "code",
   "execution_count": 8,
   "id": "aboriginal-working",
   "metadata": {},
   "outputs": [
    {
     "data": {
      "text/plain": [
       "18720"
      ]
     },
     "execution_count": 8,
     "metadata": {},
     "output_type": "execute_result"
    }
   ],
   "source": [
    "imc_imgs[0].shape[1]"
   ]
  },
  {
   "cell_type": "code",
   "execution_count": null,
   "id": "patent-arrival",
   "metadata": {},
   "outputs": [],
   "source": [
    "# ====== TRANSFORMS ======\n",
    "print('PERFORMING TRANSFORMS')\n",
    "\n",
    "stpt_imgs_cat = transforms.Resize(imc_imgs[0].shape[1])(stpt_imgs_cat)  # make STPT img same size as IMC (..., 18720, 18720)\n",
    "combine = torch.cat((imc_imgs_cat, stpt_imgs_cat), 0) # combine imc and stpt -> (48, 18720, 18720)\n",
    "\n",
    "# obtain a batch of random crops\n",
    "img_set = [transforms.Compose([transforms.RandomCrop(256)])(combine) for i in range(64)]\n",
    "\n",
    "# separate imc and stpt -> (40, 18720, 18720), (8, 18720, 18720)\n",
    "imc_imgs = [torch.split(img, 40)[0] for img in img_set]\n",
    "stpt_imgs = [torch.split(img, 40)[1] for img in img_set]"
   ]
  },
  {
   "cell_type": "code",
   "execution_count": 19,
   "id": "sticky-fruit",
   "metadata": {},
   "outputs": [
    {
     "name": "stdout",
     "output_type": "stream",
     "text": [
      "imc torch.Size([40, 256, 256])\n",
      "stpt torch.Size([8, 256, 256])\n"
     ]
    }
   ],
   "source": [
    "print('imc',imc_imgs[0].shape)\n",
    "print('stpt', stpt_imgs[0].shape)"
   ]
  },
  {
   "cell_type": "markdown",
   "id": "about-halifax",
   "metadata": {},
   "source": [
    "## Batches"
   ]
  },
  {
   "cell_type": "code",
   "execution_count": 7,
   "id": "liquid-correction",
   "metadata": {},
   "outputs": [],
   "source": [
    "import torch\n",
    "imgs = [[torch.ones((8, 256, 256)) for i in range(64)]]\n",
    "targets = [[torch.ones((40, 256, 256)) for i in range(64)]]"
   ]
  },
  {
   "cell_type": "code",
   "execution_count": 11,
   "id": "narrow-satisfaction",
   "metadata": {},
   "outputs": [],
   "source": [
    "x = [torch.ones((8, 256,256)) for i in range(64)]\n",
    "y = [torch.ones((40, 256,256)) for i in range(64)]\n",
    "batch = (x, y)"
   ]
  },
  {
   "cell_type": "code",
   "execution_count": 17,
   "id": "coupled-batch",
   "metadata": {},
   "outputs": [
    {
     "name": "stdout",
     "output_type": "stream",
     "text": [
      "2\n",
      "64\n",
      "64\n",
      "torch.Size([8, 256, 256])\n",
      "torch.Size([40, 256, 256])\n"
     ]
    }
   ],
   "source": [
    "print(len(batch))\n",
    "print(len(batch[0]))\n",
    "print(len(batch[1]))\n",
    "print(batch[0][0].shape)\n",
    "print(batch[1][0].shape)"
   ]
  },
  {
   "cell_type": "code",
   "execution_count": 23,
   "id": "uniform-astrology",
   "metadata": {},
   "outputs": [
    {
     "data": {
      "text/plain": [
       "'torch.cuda.DoubleTensor'"
      ]
     },
     "execution_count": 23,
     "metadata": {},
     "output_type": "execute_result"
    }
   ],
   "source": [
    "imc = torch.stack(batch[0]).cuda().double()\n",
    "imc.type()"
   ]
  },
  {
   "cell_type": "markdown",
   "id": "hindu-church",
   "metadata": {},
   "source": [
    "## Checks"
   ]
  },
  {
   "cell_type": "code",
   "execution_count": 15,
   "id": "noticed-yukon",
   "metadata": {},
   "outputs": [],
   "source": [
    "train_imc = 'data/train/IMC/'\n",
    "train_stpt = 'data/train/STPT/'\n",
    "val_imc = 'data/val/IMC'\n",
    "val_stpt = 'data/val/STPT'\n",
    "test_imc = 'data/test/IMC'\n",
    "test_stpt = 'data/test/STPT'"
   ]
  },
  {
   "cell_type": "code",
   "execution_count": 16,
   "id": "medieval-cylinder",
   "metadata": {},
   "outputs": [],
   "source": [
    "import os\n",
    "train_imc_folders = os.listdir(train_imc)\n",
    "train_stpt_folders = os.listdir(train_stpt)\n",
    "val_imc_folders = os.listdir(val_imc)\n",
    "val_stpt_folders = os.listdir(val_stpt)\n",
    "test_imc_folders = os.listdir(test_imc)\n",
    "test_stpt_folders = os.listdir(test_stpt)"
   ]
  },
  {
   "cell_type": "code",
   "execution_count": 17,
   "id": "limited-worcester",
   "metadata": {},
   "outputs": [
    {
     "name": "stdout",
     "output_type": "stream",
     "text": [
      "15 15 15 15 2 2\n"
     ]
    }
   ],
   "source": [
    "print(len(train_imc_folders),\n",
    "      len(train_stpt_folders),\n",
    "     len(val_imc_folders),\n",
    "     len(val_stpt_folders),\n",
    "     len(test_imc_folders),\n",
    "     len(test_stpt_folders))"
   ]
  },
  {
   "cell_type": "code",
   "execution_count": 22,
   "id": "ambient-declaration",
   "metadata": {},
   "outputs": [],
   "source": [
    "folders = [train_imc_folders, train_stpt_folders, val_imc_folders, val_stpt_folders, test_imc_folders, test_stpt_folders]\n",
    "\n",
    "paths = [train_imc, train_stpt, val_imc, val_stpt, test_imc, test_stpt]\n",
    "for i, folder in enumerate(folders):\n",
    "    length = None\n",
    "    for subfolder in folder:\n",
    "        if length is None:\n",
    "            length = len(os.listdir(os.path.join(paths[i], subfolder)))\n",
    "        else:\n",
    "            try:\n",
    "                # checks if all the directories are the same size\n",
    "                assert(length == len(os.listdir(os.path.join(paths[i], subfolder))))\n",
    "            except:\n",
    "                print(os.path.join(folder, subfolder))"
   ]
  },
  {
   "cell_type": "code",
   "execution_count": 1,
   "id": "floral-israel",
   "metadata": {},
   "outputs": [],
   "source": [
    "import torch"
   ]
  },
  {
   "cell_type": "code",
   "execution_count": 5,
   "id": "stock-change",
   "metadata": {},
   "outputs": [
    {
     "ename": "TypeError",
     "evalue": "multiply() received an invalid combination of arguments - got (list), but expected one of:\n * (Tensor input, Tensor other, *, Tensor out)\n * (Tensor input, Number other)\n",
     "output_type": "error",
     "traceback": [
      "\u001b[0;31m---------------------------------------------------------------------------\u001b[0m",
      "\u001b[0;31mTypeError\u001b[0m                                 Traceback (most recent call last)",
      "\u001b[0;32m<ipython-input-5-487b420c85b3>\u001b[0m in \u001b[0;36m<module>\u001b[0;34m\u001b[0m\n\u001b[1;32m      1\u001b[0m \u001b[0mx\u001b[0m \u001b[0;34m=\u001b[0m \u001b[0mtorch\u001b[0m\u001b[0;34m.\u001b[0m\u001b[0mrandn\u001b[0m\u001b[0;34m(\u001b[0m\u001b[0;36m8\u001b[0m\u001b[0;34m,\u001b[0m \u001b[0;36m256\u001b[0m\u001b[0;34m,\u001b[0m \u001b[0;36m256\u001b[0m\u001b[0;34m)\u001b[0m\u001b[0;34m\u001b[0m\u001b[0;34m\u001b[0m\u001b[0m\n\u001b[1;32m      2\u001b[0m \u001b[0mtorch\u001b[0m\u001b[0;34m.\u001b[0m\u001b[0mnn\u001b[0m\u001b[0;34m.\u001b[0m\u001b[0mFlatten\u001b[0m\u001b[0;34m(\u001b[0m\u001b[0;34m-\u001b[0m\u001b[0;36m2\u001b[0m\u001b[0;34m,\u001b[0m \u001b[0;34m-\u001b[0m\u001b[0;36m1\u001b[0m\u001b[0;34m)\u001b[0m\u001b[0;34m(\u001b[0m\u001b[0mx\u001b[0m\u001b[0;34m)\u001b[0m\u001b[0;34m.\u001b[0m\u001b[0mshape\u001b[0m\u001b[0;34m\u001b[0m\u001b[0;34m\u001b[0m\u001b[0m\n\u001b[0;32m----> 3\u001b[0;31m \u001b[0mtorch\u001b[0m\u001b[0;34m.\u001b[0m\u001b[0mmultiply\u001b[0m\u001b[0;34m(\u001b[0m\u001b[0;34m[\u001b[0m\u001b[0;36m5\u001b[0m\u001b[0;34m,\u001b[0m \u001b[0;36m10\u001b[0m\u001b[0;34m]\u001b[0m\u001b[0;34m)\u001b[0m\u001b[0;34m\u001b[0m\u001b[0;34m\u001b[0m\u001b[0m\n\u001b[0m",
      "\u001b[0;31mTypeError\u001b[0m: multiply() received an invalid combination of arguments - got (list), but expected one of:\n * (Tensor input, Tensor other, *, Tensor out)\n * (Tensor input, Number other)\n"
     ]
    }
   ],
   "source": [
    "x = torch.randn(8, 256, 256)\n",
    "torch.nn.Flatten(-2, -1)(x).shape\n",
    "torch.multiply([5, 10])"
   ]
  },
  {
   "cell_type": "code",
   "execution_count": 22,
   "id": "separated-treasury",
   "metadata": {},
   "outputs": [
    {
     "data": {
      "text/plain": [
       "torch.Size([1, 512, 2048])"
      ]
     },
     "execution_count": 22,
     "metadata": {},
     "output_type": "execute_result"
    }
   ],
   "source": [
    "x = torch.randn(1, 512, 2, 2)\n",
    "additional = torch.nn.Sequential(\n",
    "    torch.nn.Flatten(-2, -1),\n",
    "    torch.nn.Linear(4, 2048)\n",
    ")\n",
    "additional(x).shape"
   ]
  },
  {
   "cell_type": "code",
   "execution_count": 18,
   "id": "objective-canon",
   "metadata": {},
   "outputs": [
    {
     "data": {
      "text/plain": [
       "torch.Size([1, 8, 254, 254])"
      ]
     },
     "execution_count": 18,
     "metadata": {},
     "output_type": "execute_result"
    }
   ],
   "source": [
    "x = torch.randn(1, 8, 256, 256)\n",
    "torch.nn.Conv2d(8, 8, kernel_size=3, padding_mode='circular')(x).shape"
   ]
  }
 ],
 "metadata": {
  "kernelspec": {
   "display_name": "cpsc533y",
   "language": "python",
   "name": "cpsc533y"
  },
  "language_info": {
   "codemirror_mode": {
    "name": "ipython",
    "version": 3
   },
   "file_extension": ".py",
   "mimetype": "text/x-python",
   "name": "python",
   "nbconvert_exporter": "python",
   "pygments_lexer": "ipython3",
   "version": "3.7.10"
  }
 },
 "nbformat": 4,
 "nbformat_minor": 5
}
