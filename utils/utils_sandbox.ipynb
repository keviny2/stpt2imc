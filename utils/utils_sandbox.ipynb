{
 "cells": [
  {
   "cell_type": "code",
   "execution_count": 2,
   "id": "atomic-monitoring",
   "metadata": {},
   "outputs": [],
   "source": [
    "from utils import save_stpts, save_imcs, display_imgs"
   ]
  },
  {
   "cell_type": "markdown",
   "id": "coated-houston",
   "metadata": {},
   "source": [
    "## STPT"
   ]
  },
  {
   "cell_type": "code",
   "execution_count": 4,
   "id": "sensitive-myrtle",
   "metadata": {},
   "outputs": [
    {
     "name": "stderr",
     "output_type": "stream",
     "text": [
      "Clipping input data to the valid range for imshow with RGB data ([0..1] for floats or [0..255] for integers).\n"
     ]
    },
    {
     "data": {
      "text/plain": [
       "<Figure size 432x288 with 0 Axes>"
      ]
     },
     "metadata": {},
     "output_type": "display_data"
    }
   ],
   "source": [
    "phys_secs = ['{:03d}'.format(sec) for sec in list(range(1, 5))]  # construct list of physical sections\n",
    "\n",
    "save_stpts()\n",
    "# save_stpts(ress=['1'],\n",
    "#            phys_secs=phys_secs,\n",
    "#            opt_secs=['00', '01'])"
   ]
  },
  {
   "cell_type": "code",
   "execution_count": 26,
   "id": "solar-pressing",
   "metadata": {},
   "outputs": [],
   "source": [
    "import os\n",
    "from skimage import io\n",
    "import matplotlib.pyplot as plt\n",
    "import numpy as np"
   ]
  },
  {
   "cell_type": "code",
   "execution_count": null,
   "id": "permanent-pierre",
   "metadata": {},
   "outputs": [],
   "source": [
    "img = io.imread('PROCESSED_IMC_DATA/SECTION_01_MATCH_STPT_20Z00/TIF/191Ir_DNA.tif')\n",
    "plt.imshow(img, cmap='gray')"
   ]
  },
  {
   "cell_type": "markdown",
   "id": "interpreted-feeding",
   "metadata": {},
   "source": [
    "## IMC"
   ]
  },
  {
   "cell_type": "code",
   "execution_count": 2,
   "id": "chicken-knife",
   "metadata": {},
   "outputs": [
    {
     "data": {
      "text/plain": [
       "<Figure size 432x288 with 0 Axes>"
      ]
     },
     "metadata": {},
     "output_type": "display_data"
    }
   ],
   "source": [
    "phys_secs = ['{:02d}'.format(sec) for sec in list(range(1, 5))]  # construct list of physical sections\n",
    "\n",
    "save_imcs(secs=phys_secs,\n",
    "          img_types=['TIF'],\n",
    "          data_files=['193Ir_DNA.tif', '191Ir_DNA.tif', 'roi_map.tif', '143Nd_Vimentin.tif'])"
   ]
  },
  {
   "cell_type": "markdown",
   "id": "institutional-marijuana",
   "metadata": {},
   "source": [
    "## Display Images"
   ]
  },
  {
   "cell_type": "code",
   "execution_count": 3,
   "id": "concerned-avatar",
   "metadata": {},
   "outputs": [
    {
     "data": {
      "application/vnd.jupyter.widget-view+json": {
       "model_id": "84e5716387f041049e12ea1ca87aebf8",
       "version_major": 2,
       "version_minor": 0
      },
      "text/plain": [
       "GridBox(children=(Image(value=b'\\x89PNG\\r\\n\\x1a\\n\\x00\\x00\\x00\\rIHDR\\x00\\x00\\x01\\xb0\\x00\\x00\\x01 \\x08\\x06\\x00\\x…"
      ]
     },
     "metadata": {},
     "output_type": "display_data"
    }
   ],
   "source": [
    "## STPT\n",
    "display_imgs(\"/home/jimaxt/Shared/Notebooks/Kevin/stpt_2_imc/data/STPT/1\")"
   ]
  },
  {
   "cell_type": "code",
   "execution_count": null,
   "id": "funded-supplement",
   "metadata": {},
   "outputs": [],
   "source": [
    "## IMC\n",
    "for i in range(1, 18):\n",
    "    # folder for sec 16 is empty, skip over\n",
    "    if i == 16:\n",
    "        continue\n",
    "    display_imgs(\"/home/jimaxt/Shared/Notebooks/Kevin/stpt_2_imc/data/IMC/{:02d}\".format(i))"
   ]
  },
  {
   "cell_type": "markdown",
   "id": "prostate-relaxation",
   "metadata": {},
   "source": [
    "## Sandbox"
   ]
  },
  {
   "cell_type": "code",
   "execution_count": 2,
   "id": "owned-aquarium",
   "metadata": {},
   "outputs": [],
   "source": [
    "from skimage import io\n",
    "import matplotlib.pyplot as plt\n",
    "from matplotlib.colors import ListedColormap\n",
    "from mpl_toolkits.mplot3d import Axes3D\n",
    "import numpy as np\n",
    "import re, seaborn as sns"
   ]
  },
  {
   "cell_type": "code",
   "execution_count": 57,
   "id": "included-carry",
   "metadata": {},
   "outputs": [],
   "source": [
    "def view(file, dim=2):\n",
    "    fig = plt.figure(figsize=(10,10))\n",
    "    img = io.imread(file)\n",
    "    if dim==2:\n",
    "        plt.imshow(img)\n",
    "    else:\n",
    "        ax = Axes3D(fig)\n",
    "        fig.add_axes(ax)\n",
    "        cmap = ListedColormap(sns.color_palette(\"husl\", 256).as_hex())\n",
    "        sc = ax.scatter(img[:, 0], img[:, 1], img[:, 2], s=40, c=img[:, 0], marker='o', cmap=cmap, alpha=1)\n",
    "    # plt.savefig('/home/jimaxt/Shared/Notebooks/Kevin/visualization/3d_plot')"
   ]
  },
  {
   "cell_type": "code",
   "execution_count": null,
   "id": "binary-guitar",
   "metadata": {},
   "outputs": [],
   "source": [
    "view(file='143Nd_Vimentin.tif', dim=2)"
   ]
  },
  {
   "cell_type": "markdown",
   "id": "capable-orleans",
   "metadata": {},
   "source": [
    "PointSetGen: img -> pt cloud\n",
    "\n",
    "OccupancyNet\n",
    "\n",
    "Implicit and Explicit method"
   ]
  }
 ],
 "metadata": {
  "kernelspec": {
   "display_name": "Python 3",
   "language": "python",
   "name": "python3"
  },
  "language_info": {
   "codemirror_mode": {
    "name": "ipython",
    "version": 3
   },
   "file_extension": ".py",
   "mimetype": "text/x-python",
   "name": "python",
   "nbconvert_exporter": "python",
   "pygments_lexer": "ipython3",
   "version": "3.7.10"
  }
 },
 "nbformat": 4,
 "nbformat_minor": 5
}
