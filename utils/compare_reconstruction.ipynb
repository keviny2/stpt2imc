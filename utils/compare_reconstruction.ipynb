{
 "cells": [
  {
   "cell_type": "markdown",
   "id": "alike-muscle",
   "metadata": {},
   "source": [
    "## Pipeline to compare reconstruction to target IMC images"
   ]
  },
  {
   "cell_type": "code",
   "execution_count": null,
   "id": "alien-evolution",
   "metadata": {},
   "outputs": [],
   "source": [
    "# For plotting\n",
    "import numpy as np\n",
    "import matplotlib.pyplot as plt\n",
    "%matplotlib inline\n",
    "from skimage import io\n",
    "import cv2 as cv\n",
    "# For everything\n",
    "import torch\n",
    "import torch.nn as nn\n",
    "import torch.nn.functional as F\n",
    "# For our model\n",
    "import torchvision.models as models\n",
    "from torchvision import datasets, transforms\n",
    "from torch.multiprocessing import Pool, set_start_method\n",
    "# For utilities\n",
    "import os, shutil, time"
   ]
  },
  {
   "cell_type": "code",
   "execution_count": null,
   "id": "cheap-desert",
   "metadata": {},
   "outputs": [],
   "source": [
    "# code from https://amaarora.github.io/2020/09/13/unet.html#u-net\n",
    "class Block(nn.Module):\n",
    "    def __init__(self, in_ch, out_ch):\n",
    "        super().__init__()\n",
    "        self.conv1 = nn.Conv2d(in_ch, out_ch, 3)\n",
    "        self.relu  = nn.ReLU()\n",
    "        self.conv2 = nn.Conv2d(out_ch, out_ch, 3)\n",
    "        self.batchnorm2d = nn.BatchNorm2d(in_ch)\n",
    "    \n",
    "    def forward(self, x):\n",
    "        x = self.batchnorm2d(x)\n",
    "        x = self.conv1(x)\n",
    "        x = self.relu(x)\n",
    "        return self.conv2(x)\n",
    "#         return self.conv2(self.relu(self.conv1(self.batchnorm2d(x))))\n",
    "\n",
    "\n",
    "class Encoder(nn.Module):\n",
    "    def __init__(self, chs=(8,64,128,256,512,1024)):\n",
    "        super().__init__()\n",
    "        self.enc_blocks = nn.ModuleList([Block(chs[i], chs[i+1]) for i in range(len(chs)-1)])\n",
    "        self.pool       = nn.MaxPool2d(2)\n",
    "    \n",
    "    def forward(self, x):\n",
    "        ftrs = []\n",
    "        for block in self.enc_blocks:\n",
    "            x = block(x)\n",
    "            ftrs.append(x)\n",
    "            x = self.pool(x)\n",
    "        return ftrs\n",
    "\n",
    "\n",
    "class Decoder(nn.Module):\n",
    "    def __init__(self, chs=(1024, 512, 256, 128, 40)):\n",
    "        super().__init__()\n",
    "        self.chs         = chs\n",
    "        self.upconvs    = nn.ModuleList([nn.ConvTranspose2d(chs[i], chs[i+1], 2, 2) for i in range(len(chs)-1)])\n",
    "        self.dec_blocks = nn.ModuleList([Block(chs[i], chs[i+1]) for i in range(len(chs)-1)]) \n",
    "        \n",
    "    def forward(self, x, encoder_features):\n",
    "        for i in range(len(self.chs)-1):\n",
    "            x        = self.upconvs[i](x)\n",
    "            enc_ftrs = self.crop(encoder_features[i], x)\n",
    "            x        = torch.cat([x, enc_ftrs], dim=1)            \n",
    "            x        = self.dec_blocks[i](x)\n",
    "        return x\n",
    "    \n",
    "    def crop(self, enc_ftrs, x):\n",
    "        _, _, H, W = x.shape\n",
    "        enc_ftrs   = transforms.CenterCrop([H, W])(enc_ftrs)\n",
    "        return enc_ftrs\n",
    "\n",
    "\n",
    "class UNet(nn.Module):\n",
    "    def __init__(self, enc_chs=(8,64,128,256,512,1024), dec_chs=(1024, 512, 256, 128, 64)):\n",
    "        super().__init__()\n",
    "        self.encoder = Encoder(enc_chs)\n",
    "        self.decoder = Decoder(dec_chs)\n",
    "        self.head = nn.Conv2d(dec_chs[-1], 40, 1)\n",
    "\n",
    "    def forward(self, x):\n",
    "        enc_ftrs = self.encoder(x)\n",
    "        out = self.decoder(enc_ftrs[::-1][0], enc_ftrs[::-1][1:])\n",
    "        out = self.head(out)\n",
    "        out = F.interpolate(out, (256, 256))\n",
    "        return out\n",
    "    \n",
    "    \n",
    "def process_stpt_image(file_name):\n",
    "    img = io.imread(file_name)\n",
    "    \n",
    "    # normalize image (8 bits)\n",
    "    norm_img = img.copy()\n",
    "    cv.normalize(img, norm_img, alpha=0, beta=2**8 - 1, norm_type=cv.NORM_MINMAX)\n",
    "\n",
    "    # Apply log transformation method\n",
    "    c = (2**8 - 1) / np.log(1 + np.max(norm_img))\n",
    "\n",
    "    log_image = c * (np.log(norm_img + 1))\n",
    "    # Specify the data type so that\n",
    "    # float value will be converted to int\n",
    "    return torch.from_numpy(log_image)"
   ]
  },
  {
   "cell_type": "code",
   "execution_count": null,
   "id": "primary-capital",
   "metadata": {},
   "outputs": [],
   "source": [
    "model = UNet().double()\n",
    "\n",
    "checkpoint = torch.load('../checkpoints/model-epoch-2-losses-294.774.pth')\n",
    "model.load_state_dict(checkpoint)"
   ]
  },
  {
   "cell_type": "code",
   "execution_count": null,
   "id": "sought-recorder",
   "metadata": {},
   "outputs": [],
   "source": [
    "phys_sec = '7'   # choose which physical section to reconstruct\n",
    "chunk = '30_30'  # choose which chunk to extract\n",
    "\n",
    "# load images\n",
    "stpt_piece = torch.load('../data/train/STPT/{0}/{1}.pt'.format(phys_sec.zfill(2), chunk))\n",
    "imc_reconst = model(stpt_piece.unsqueeze(0)).squeeze()\n",
    "\n",
    "imc_true = torch.load('../data/train/IMC/{0}/{1}.pt'.format(phys_sec.zfill(2)), chunk)"
   ]
  },
  {
   "cell_type": "code",
   "execution_count": null,
   "id": "demonstrated-import",
   "metadata": {
    "scrolled": true,
    "tags": []
   },
   "outputs": [],
   "source": [
    "# plot sample and target pairs\n",
    "\n",
    "channels = [i for i in range(5)]\n",
    "f, axarr = plt.subplots(num_channels, 2)\n",
    "for channel in channels:\n",
    "    axarr[channel, 0].imshow(imc_reconst[channel].detach().numpy(), cmap='gray')\n",
    "    axarr[channel, 1].imshow(imc_true[channel].detach().numpy(), cmap='gray')"
   ]
  },
  {
   "cell_type": "code",
   "execution_count": null,
   "id": "voluntary-lemon",
   "metadata": {},
   "outputs": [],
   "source": [
    "plt.imshow(imc_reconst[25].detach().numpy(), cmap='gray')"
   ]
  },
  {
   "cell_type": "code",
   "execution_count": null,
   "id": "geological-empty",
   "metadata": {},
   "outputs": [],
   "source": [
    "plt.imshow(imc_true[25].detach().numpy(), cmap='gray')"
   ]
  }
 ],
 "metadata": {
  "kernelspec": {
   "display_name": "cpsc533y",
   "language": "python",
   "name": "cpsc533y"
  },
  "language_info": {
   "codemirror_mode": {
    "name": "ipython",
    "version": 3
   },
   "file_extension": ".py",
   "mimetype": "text/x-python",
   "name": "python",
   "nbconvert_exporter": "python",
   "pygments_lexer": "ipython3",
   "version": "3.7.10"
  }
 },
 "nbformat": 4,
 "nbformat_minor": 5
}
