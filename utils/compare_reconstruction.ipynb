{
 "cells": [
  {
   "cell_type": "markdown",
   "id": "acquired-score",
   "metadata": {},
   "source": [
    "## Pipeline to compare reconstruction to target IMC images"
   ]
  },
  {
   "cell_type": "code",
   "execution_count": 16,
   "id": "devoted-retention",
   "metadata": {},
   "outputs": [],
   "source": [
    "# For plotting\n",
    "import numpy as np\n",
    "import matplotlib.pyplot as plt\n",
    "%matplotlib inline\n",
    "from skimage import io\n",
    "import cv2 as cv\n",
    "# For everything\n",
    "import torch\n",
    "import torch.nn as nn\n",
    "import torch.nn.functional as F\n",
    "# For our model\n",
    "import torchvision.models as models\n",
    "from torchvision import datasets, transforms\n",
    "from torch.multiprocessing import Pool, set_start_method\n",
    "# For utilities\n",
    "import os, shutil, time\n",
    "\n",
    "from visualization import process_stpt_image"
   ]
  },
  {
   "cell_type": "markdown",
   "id": "threatened-superior",
   "metadata": {},
   "source": [
    "## UNet"
   ]
  },
  {
   "cell_type": "code",
   "execution_count": 17,
   "id": "resident-coordinate",
   "metadata": {},
   "outputs": [],
   "source": [
    "# code from https://amaarora.github.io/2020/09/13/unet.html#u-net\n",
    "class Block(nn.Module):\n",
    "    def __init__(self, in_ch, out_ch):\n",
    "        super().__init__()\n",
    "        self.conv1 = nn.Conv2d(in_ch, out_ch, 3)\n",
    "        self.relu  = nn.ReLU()\n",
    "        self.conv2 = nn.Conv2d(out_ch, out_ch, 3)\n",
    "        self.batchnorm2d = nn.BatchNorm2d(in_ch)\n",
    "    \n",
    "    def forward(self, x):\n",
    "        x = self.batchnorm2d(x)\n",
    "        x = self.conv1(x)\n",
    "        x = self.relu(x)\n",
    "        return self.conv2(x)\n",
    "#         return self.conv2(self.relu(self.conv1(self.batchnorm2d(x))))\n",
    "\n",
    "\n",
    "class Encoder(nn.Module):\n",
    "    def __init__(self, chs=(8,64,128,256,512,1024)):\n",
    "        super().__init__()\n",
    "        self.enc_blocks = nn.ModuleList([Block(chs[i], chs[i+1]) for i in range(len(chs)-1)])\n",
    "        self.pool       = nn.MaxPool2d(2)\n",
    "    \n",
    "    def forward(self, x):\n",
    "        ftrs = []\n",
    "        for block in self.enc_blocks:\n",
    "            x = block(x)\n",
    "            ftrs.append(x)\n",
    "            x = self.pool(x)\n",
    "        return ftrs\n",
    "\n",
    "\n",
    "class Decoder(nn.Module):\n",
    "    def __init__(self, chs=(1024, 512, 256, 128, 40)):\n",
    "        super().__init__()\n",
    "        self.chs         = chs\n",
    "        self.upconvs    = nn.ModuleList([nn.ConvTranspose2d(chs[i], chs[i+1], 2, 2) for i in range(len(chs)-1)])\n",
    "        self.dec_blocks = nn.ModuleList([Block(chs[i], chs[i+1]) for i in range(len(chs)-1)]) \n",
    "        \n",
    "    def forward(self, x, encoder_features):\n",
    "        for i in range(len(self.chs)-1):\n",
    "            x        = self.upconvs[i](x)\n",
    "            enc_ftrs = self.crop(encoder_features[i], x)\n",
    "            x        = torch.cat([x, enc_ftrs], dim=1)            \n",
    "            x        = self.dec_blocks[i](x)\n",
    "        return x\n",
    "    \n",
    "    def crop(self, enc_ftrs, x):\n",
    "        _, _, H, W = x.shape\n",
    "        enc_ftrs   = transforms.CenterCrop([H, W])(enc_ftrs)\n",
    "        return enc_ftrs\n",
    "\n",
    "\n",
    "class UNet(nn.Module):\n",
    "    def __init__(self, enc_chs=(8,64,128,256,512,1024), dec_chs=(1024, 512, 256, 128, 64)):\n",
    "        super().__init__()\n",
    "        self.encoder = Encoder(enc_chs)\n",
    "        self.decoder = Decoder(dec_chs)\n",
    "        self.head = nn.Conv2d(dec_chs[-1], 40, 1)\n",
    "\n",
    "    def forward(self, x):\n",
    "        enc_ftrs = self.encoder(x)\n",
    "        out = self.decoder(enc_ftrs[::-1][0], enc_ftrs[::-1][1:])\n",
    "        out = self.head(out)\n",
    "        out = F.interpolate(out, (256, 256))\n",
    "        return out"
   ]
  },
  {
   "cell_type": "code",
   "execution_count": 28,
   "id": "elder-anderson",
   "metadata": {},
   "outputs": [
    {
     "data": {
      "text/plain": [
       "<All keys matched successfully>"
      ]
     },
     "execution_count": 28,
     "metadata": {},
     "output_type": "execute_result"
    }
   ],
   "source": [
    "model = UNet().double()\n",
    "\n",
    "checkpoint = torch.load('../checkpoints/model-epoch-4-losses-288.611.pth')\n",
    "model.load_state_dict(checkpoint['model_state_dict'])"
   ]
  },
  {
   "cell_type": "markdown",
   "id": "closed-dance",
   "metadata": {},
   "source": [
    "## Cropped"
   ]
  },
  {
   "cell_type": "code",
   "execution_count": 29,
   "id": "sufficient-insured",
   "metadata": {},
   "outputs": [],
   "source": [
    "phys_sec = '12'   # choose which physical section to reconstruct\n",
    "chunk = '30_41'  # choose which chunk to extract\n",
    "\n",
    "# load images\n",
    "stpt_piece = torch.load('../data/val/STPT/{0}/{1}.pt'.format(phys_sec.zfill(2), chunk))\n",
    "imc_reconst = model(stpt_piece.unsqueeze(0)).squeeze()\n",
    "\n",
    "imc_true = torch.load('../data/val/IMC/{0}/{1}.pt'.format(phys_sec.zfill(2), chunk))"
   ]
  },
  {
   "cell_type": "code",
   "execution_count": 30,
   "id": "packed-flower",
   "metadata": {
    "scrolled": true,
    "tags": []
   },
   "outputs": [
    {
     "data": {
      "text/plain": [
       "<matplotlib.image.AxesImage at 0x7fc59701f7d0>"
      ]
     },
     "execution_count": 30,
     "metadata": {},
     "output_type": "execute_result"
    },
    {
     "data": {
      "image/png": "[encoded data removed]",
      "text/plain": [
       "<Figure size 432x288 with 6 Axes>"
      ]
     },
     "metadata": {
      "needs_background": "light"
     },
     "output_type": "display_data"
    }
   ],
   "source": [
    "# plot sample and target pairs\n",
    "\n",
    "nrows = 3\n",
    "ncols = 2\n",
    "f, axarr = plt.subplots(nrows, ncols)\n",
    "for i in range(nrows):\n",
    "    for j in range(ncols):\n",
    "        axarr[i, j].axis(\"off\")\n",
    "        \n",
    "chs = [5, 15, 35]\n",
    "axarr[0, 0].set_title('Reconstruction', pad=20)\n",
    "axarr[0, 1].set_title('Ground Truth', pad=20)\n",
    "axarr[0, 0].imshow(imc_reconst[chs[0]].detach().numpy(), cmap='gray', vmin=0, vmax=255)\n",
    "axarr[0, 1].imshow(imc_true[chs[0]].detach().numpy(), cmap='gray', vmin=0, vmax=255)\n",
    "axarr[1, 0].imshow(imc_reconst[chs[1]].detach().numpy(), cmap='gray', vmin=0, vmax=255)\n",
    "axarr[1, 1].imshow(imc_true[chs[1]].detach().numpy(), cmap='gray', vmin=0, vmax=255)\n",
    "axarr[2, 0].imshow(imc_reconst[chs[2]].detach().numpy(), cmap='gray', vmin=0, vmax=255)\n",
    "axarr[2, 1].imshow(imc_true[chs[2]].detach().numpy(), cmap='gray', vmin=0, vmax=255)"
   ]
  },
  {
   "cell_type": "code",
   "execution_count": 31,
   "id": "swiss-worry",
   "metadata": {},
   "outputs": [],
   "source": [
    "# save figure with file name corresponding to physical section and chunk\n",
    "\n",
    "f.savefig('../figures/{0}_{1}.png'.format(phys_sec, chunk))"
   ]
  },
  {
   "cell_type": "code",
   "execution_count": null,
   "id": "charitable-chick",
   "metadata": {},
   "outputs": [],
   "source": []
  }
 ],
 "metadata": {
  "kernelspec": {
   "display_name": "cpsc533y",
   "language": "python",
   "name": "cpsc533y"
  },
  "language_info": {
   "codemirror_mode": {
    "name": "ipython",
    "version": 3
   },
   "file_extension": ".py",
   "mimetype": "text/x-python",
   "name": "python",
   "nbconvert_exporter": "python",
   "pygments_lexer": "ipython3",
   "version": "3.7.10"
  }
 },
 "nbformat": 4,
 "nbformat_minor": 5
}
